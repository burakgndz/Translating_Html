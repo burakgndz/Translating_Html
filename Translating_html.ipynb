{
 "cells": [
  {
   "cell_type": "code",
   "execution_count": null,
   "metadata": {},
   "outputs": [],
   "source": [
    "#installing modules\n",
    "!pip install beautifulsoup4 translators"
   ]
  },
  {
   "cell_type": "code",
   "execution_count": 1,
   "metadata": {},
   "outputs": [
    {
     "name": "stderr",
     "output_type": "stream",
     "text": [
      "Using state Istanbul server backend.\n"
     ]
    }
   ],
   "source": [
    "#importing \n",
    "import translators as ts\n",
    "import time\n",
    "from bs4 import BeautifulSoup, NavigableString, Comment"
   ]
  },
  {
   "cell_type": "code",
   "execution_count": 2,
   "metadata": {},
   "outputs": [],
   "source": [
    "def translate_html_file(child):\n",
    "    for i in range(len(child)):\n",
    "        if type(child[i]) == NavigableString:\n",
    "            if type(child[i]) == Comment:\n",
    "                continue\n",
    "            if child[i].isspace():\n",
    "                continue\n",
    "            try:\n",
    "                s = time.time()\n",
    "                translation = ts.translate_text(child[i].string,translator = \"google\", to_language=\"tr\")\n",
    "                b = time.time()\n",
    "                print(\"translation time: \", b-s)\n",
    "                child[i].string.replace_with(translation)\n",
    "                print(\"translation is done!\")\n",
    "            except:\n",
    "                print(\"couldn't translate and replace: \", child[i].string)\n",
    "        else:\n",
    "            if type(child[i].string) == Comment:\n",
    "                continue\n",
    "            elif child[i].name in [\"script\",\"style\",\"meta\",\"link\",\"noscript\"]:\n",
    "                continue\n",
    "            else:\n",
    "                translate_html_file(child[i].contents)\n",
    "                \n"
   ]
  },
  {
   "cell_type": "code",
   "execution_count": 3,
   "metadata": {},
   "outputs": [],
   "source": [
    "html_doc = \"\"\"\n",
    "<html><head><title>The Dormouse's story</title></head>\n",
    "<body>\n",
    "<p class=\"title\"><b>The Dormouse's story</b></p>\n",
    "\n",
    "<p class=\"story\">Once upon a time there were three little sisters; and their names were\n",
    "<a href=\"http://example.com/elsie\" class=\"sister\" id=\"link1\">Elsie</a>,\n",
    "<a href=\"http://example.com/lacie\" class=\"sister\" id=\"link2\">Lacie</a> and\n",
    "<a href=\"http://example.com/tillie\" class=\"sister\" id=\"link3\">Tillie</a>;\n",
    "and they lived at the bottom of a well.</p>\n",
    "\n",
    "<p class=\"story\">The Disciple by Oscar Wilde\n",
    "Poems in Prose: The Disciple is Wilde's clever poem told from the pool's point of view while Narcissus gazes lovingly at his reflection. It was published as a collection of six prose poems in 1894 in The Fortnightly Review.\n",
    "\n",
    "When Narcissus died the pool of his pleasure changed from a cup of sweet waters into a cup of salt tears, and the Oreads came weeping through the woodland that they might sing to the pool and give it comfort.\n",
    "\n",
    "And when they saw that the pool had changed from a cup of sweet waters into a cup of salt tears, they loosened the green tresses of their hair and cried to the pool and said, `We do not wonder that you should mourn in this manner for Narcissus, so beautiful was he.'\n",
    "\n",
    "`But was Narcissus beautiful?' said the pool.\n",
    "\n",
    "`Who should know that better than you?' answered the Oreads. `Us did he ever pass by, but you he sought for, and would lie on your banks and look down at you, and in the mirror of your waters he would mirror his own beauty.'\n",
    "\n",
    "And the pool answered, `But I loved Narcissus because, as he lay on my banks and looked down at me, in the mirror of his eyes I saw ever my own beauty mirrored.'\n",
    "\n",
    "</p>\n",
    "</body>\n",
    "</html>\n",
    "\"\"\""
   ]
  },
  {
   "cell_type": "code",
   "execution_count": 4,
   "metadata": {},
   "outputs": [],
   "source": [
    "soup = BeautifulSoup(html_doc, 'html.parser')\n",
    "tags = soup.html"
   ]
  },
  {
   "cell_type": "code",
   "execution_count": 5,
   "metadata": {},
   "outputs": [],
   "source": [
    "tags.contents = list(filter(lambda x: x !=\"\\n\", tags.contents))"
   ]
  },
  {
   "cell_type": "code",
   "execution_count": 6,
   "metadata": {},
   "outputs": [
    {
     "name": "stdout",
     "output_type": "stream",
     "text": [
      "translation time:  1.186979055404663\n",
      "translation is done!\n",
      "translation time:  0.8335175514221191\n",
      "translation is done!\n",
      "translation time:  0.2510814666748047\n",
      "translation is done!\n",
      "translation time:  0.3520030975341797\n",
      "translation is done!\n",
      "translation time:  1.1088013648986816\n",
      "translation is done!\n",
      "translation time:  0.9264800548553467\n",
      "translation is done!\n",
      "translation time:  0.5724818706512451\n",
      "translation is done!\n",
      "translation time:  0.1991269588470459\n",
      "translation is done!\n",
      "translation time:  0.8924622535705566\n",
      "translation is done!\n",
      "translation time:  1.599320411682129\n",
      "translation is done!\n",
      "total:  7.9222540855407715\n"
     ]
    }
   ],
   "source": [
    "s = time.time()\n",
    "for tag in tags:\n",
    "    translate_html_file(tag.contents)\n",
    "f = time.time()\n",
    "print(\"total: \", f-s)"
   ]
  },
  {
   "cell_type": "code",
   "execution_count": 7,
   "metadata": {
    "scrolled": false
   },
   "outputs": [
    {
     "name": "stdout",
     "output_type": "stream",
     "text": [
      "<html>\n",
      " <head>\n",
      "  <title>\n",
      "   Dormouse'un Hikayesi\n",
      "  </title>\n",
      " </head>\n",
      " <body>\n",
      "  <p class=\"title\">\n",
      "   <b>\n",
      "    Dormouse'un Hikayesi\n",
      "   </b>\n",
      "  </p>\n",
      "  <p class=\"story\">\n",
      "   Bir zamanlar üç küçük kız kardeş vardı; Ve isimleri\n",
      "   <a class=\"sister\" href=\"http://example.com/elsie\" id=\"link1\">\n",
      "    Elsie\n",
      "   </a>\n",
      "   -\n",
      "   <a class=\"sister\" href=\"http://example.com/lacie\" id=\"link2\">\n",
      "    Lacie\n",
      "   </a>\n",
      "   Ve\n",
      "   <a class=\"sister\" href=\"http://example.com/tillie\" id=\"link3\">\n",
      "    Tillie\n",
      "   </a>\n",
      "   ; \n",
      " Ve bir kuyunun dibinde yaşadılar.\n",
      "  </p>\n",
      "  <p class=\"story\">\n",
      "   Oscar Wilde'den Öğrenci \n",
      " Düzyazı Şiirleri: Öğrenci Wilde'ın havuzun bakış açısından anlatılan zeki şiiridir, Narcissus yansımasına sevgiyle bakar. İki haftada bir incelemede 1894'te altı düzyazı şiirinin bir koleksiyonu olarak yayınlandı. \n",
      "\n",
      " Narcissus öldüğünde, zevk havuzu bir fincan tatlı sulardan bir bardak tuz gözyaşına dönüştü ve ormanlıklar havuza söyleyebilecekleri ve rahatlık verebilecekleri ormanlık alanda ağladı. \n",
      "\n",
      " Ve havuzun bir bardak tatlı sulardan bir bardak tuz gözyaşına dönüştüğünü görünce, saçlarının yeşil saçlarını gevşettiler ve havuza ağladılar ve `` Bu şekilde yas tutmanız gerektiğini merak etmiyoruz. Narcissus için çok güzeldi. ' \n",
      "\n",
      " `` Ama Narcissus güzel miydi? '' dedi havuz. \n",
      "\n",
      " `` Bunu senden daha iyi kim bilmeli? ' Oreads cevapladı. `` Biz hiç geçti mi, ama sen aradı ve bankalarınıza uzanır ve size bakar ve sularınızın aynasında kendi güzelliğini yansıtırdı. '' \n",
      "\n",
      " Ve havuz cevap verdi, `` Ama Narcissus'u sevdim çünkü bankalarıma uzanıp bana bakarken, gözlerinin aynasında kendi güzelliğimin yansıtıldığını gördüm. '\n",
      "  </p>\n",
      " </body>\n",
      "</html>\n",
      "\n"
     ]
    }
   ],
   "source": [
    "print(soup.prettify())"
   ]
  },
  {
   "cell_type": "markdown",
   "metadata": {},
   "source": [
    "If you want to read from an html file and translate its text, here's an example code"
   ]
  },
  {
   "cell_type": "code",
   "execution_count": 8,
   "metadata": {},
   "outputs": [],
   "source": [
    "html = open(\"index.html\", encoding=\"utf-8\").read()\n",
    "soup = BeautifulSoup(html, 'html.parser')\n",
    "tags = soup.html\n",
    "tags.contents = list(filter(lambda x: x != \"\\n\", tags.contents))"
   ]
  },
  {
   "cell_type": "code",
   "execution_count": 9,
   "metadata": {},
   "outputs": [
    {
     "name": "stdout",
     "output_type": "stream",
     "text": [
      "translation time:  0.7807221412658691\n",
      "translation is done!\n",
      "translation time:  0.34960389137268066\n",
      "translation is done!\n",
      "translation time:  0.9313347339630127\n",
      "translation is done!\n",
      "translation time:  0.807727575302124\n",
      "translation is done!\n",
      "translation time:  0.300152063369751\n",
      "translation is done!\n",
      "translation time:  0.5633687973022461\n",
      "translation is done!\n",
      "translation time:  0.3178987503051758\n",
      "translation is done!\n",
      "translation time:  0.9166233539581299\n",
      "translation is done!\n",
      "translation time:  0.24380230903625488\n",
      "translation is done!\n",
      "translation time:  0.913135290145874\n",
      "translation is done!\n",
      "total:  6.126374244689941\n"
     ]
    }
   ],
   "source": [
    "start = time.time()\n",
    "for tag in tags:\n",
    "    translate_html_file(tag.contents)\n",
    "with open(\"translated_index.html\", \"wb\") as output:\n",
    "    output.write(soup.prettify(\"utf-8\"))\n",
    "fin = time.time()\n",
    "print(\"total: \", fin-start)"
   ]
  },
  {
   "cell_type": "code",
   "execution_count": 10,
   "metadata": {},
   "outputs": [
    {
     "name": "stdout",
     "output_type": "stream",
     "text": [
      "<html>\n",
      " <head>\n",
      "  <title>\n",
      "   Dormouse'un Hikayesi\n",
      "  </title>\n",
      " </head>\n",
      " <body>\n",
      "  <p class=\"title\">\n",
      "   <b>\n",
      "    Dormouse'un Hikayesi\n",
      "   </b>\n",
      "  </p>\n",
      "  <p class=\"story\">\n",
      "   Bir zamanlar üç küçük kız kardeş vardı; Ve isimleri\n",
      "   <a class=\"sister\" href=\"http://example.com/elsie\" id=\"link1\">\n",
      "    Elsie\n",
      "   </a>\n",
      "   -\n",
      "   <a class=\"sister\" href=\"http://example.com/lacie\" id=\"link2\">\n",
      "    Lacie\n",
      "   </a>\n",
      "   Ve\n",
      "   <a class=\"sister\" href=\"http://example.com/tillie\" id=\"link3\">\n",
      "    Tillie\n",
      "   </a>\n",
      "   ; \n",
      " Ve bir kuyunun dibinde yaşadılar.\n",
      "  </p>\n",
      "  <p class=\"story\">\n",
      "   Oscar Wilde'den Öğrenci \n",
      " Düzyazı Şiirleri: Öğrenci Wilde'ın havuzun bakış açısından anlatılan zeki şiiridir, Narcissus yansımasına sevgiyle bakar. İki haftada bir incelemede 1894'te altı düzyazı şiirinin bir koleksiyonu olarak yayınlandı. \n",
      "\n",
      " Narcissus öldüğünde, zevk havuzu bir fincan tatlı sulardan bir bardak tuz gözyaşına dönüştü ve ormanlıklar havuza söyleyebilecekleri ve rahatlık verebilecekleri ormanlık alanda ağladı. \n",
      "\n",
      " Ve havuzun bir bardak tatlı sulardan bir bardak tuz gözyaşına dönüştüğünü görünce, saçlarının yeşil saçlarını gevşettiler ve havuza ağladılar ve `` Bu şekilde yas tutmanız gerektiğini merak etmiyoruz. Narcissus için çok güzeldi. ' \n",
      "\n",
      " `` Ama Narcissus güzel miydi? '' dedi havuz. \n",
      "\n",
      " `` Bunu senden daha iyi kim bilmeli? ' Oreads cevapladı. `` Biz hiç geçti mi, ama sen aradı ve bankalarınıza uzanır ve size bakar ve sularınızın aynasında kendi güzelliğini yansıtırdı. '' \n",
      "\n",
      " Ve havuz cevap verdi, `` Ama Narcissus'u sevdim çünkü bankalarıma uzanıp bana bakarken, gözlerinin aynasında kendi güzelliğimin yansıtıldığını gördüm. '\n",
      "  </p>\n",
      " </body>\n",
      "</html>\n"
     ]
    }
   ],
   "source": [
    "print(soup.prettify())"
   ]
  },
  {
   "cell_type": "code",
   "execution_count": null,
   "metadata": {},
   "outputs": [],
   "source": []
  }
 ],
 "metadata": {
  "kernelspec": {
   "display_name": "Python 3",
   "language": "python",
   "name": "python3"
  },
  "language_info": {
   "codemirror_mode": {
    "name": "ipython",
    "version": 3
   },
   "file_extension": ".py",
   "mimetype": "text/x-python",
   "name": "python",
   "nbconvert_exporter": "python",
   "pygments_lexer": "ipython3",
   "version": "3.7.4"
  }
 },
 "nbformat": 4,
 "nbformat_minor": 2
}
